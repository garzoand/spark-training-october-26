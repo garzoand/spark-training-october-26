{
 "cells": [
  {
   "cell_type": "markdown",
   "metadata": {},
   "source": [
    "# Key benefits of DataFrames\n",
    "\n",
    "In this module we will deep dive a bit more into the RDD API and see what are the key differences between RDDs and Dataframes. Moreover, unlike in the previous excercise, now we're performing some aggregation on top of the the data as well.\n",
    "\n",
    "Let's start with the following simple excersice: each student took different number of tests across the year and we would like to calculate the average or scores they achieved."
   ]
  },
  {
   "cell_type": "code",
   "execution_count": 1,
   "metadata": {},
   "outputs": [],
   "source": [
    "import pyspark\n",
    "from pyspark.sql import SparkSession\n",
    "from pyspark.sql.functions import avg\n",
    "\n",
    "sc = pyspark.SparkContext()\n",
    "spark = SparkSession(sc)"
   ]
  },
  {
   "cell_type": "code",
   "execution_count": 2,
   "metadata": {},
   "outputs": [],
   "source": [
    "# Let's assume for now, our data just a list of tuples with name and the achieved score on a particular exam\n",
    "data = [(\"Andras\", 10), (\"Bob\", 20), (\"Bob\", 30), (\"Andras\", 12), (\"Bob\", 35)]"
   ]
  },
  {
   "cell_type": "markdown",
   "metadata": {},
   "source": [
    "## Calculating avg. scores through the RDD API\n",
    "\n",
    "Since Spark does not really know anything about the data stored in the RDD, we have to write a very explicit code on how to calculate these averages:\n",
    "\n",
    "1. First we need to transform the dataset into key-value pairs. This should not be very difficult, as the Name will be the key. However, for the value, we also need to add an extra field which keeps track the number of elements as we'll need this value when calculating the avg.\n",
    "\n",
    "2. We need to perform a **reduceByKey** operation. This is a simple **reduce** operation, but it is performed just on top of the list of values which has the same key value. During the reduce operation we just sum up all the value field (scores and number of elements)\n",
    "\n",
    "3. And finally, we need to calculate the average itself, where we need to devide the sum of scores by the number of elements"
   ]
  },
  {
   "cell_type": "code",
   "execution_count": 3,
   "metadata": {},
   "outputs": [
    {
     "data": {
      "text/plain": [
       "[('Bob', 28.333333333333332), ('Andras', 11.0)]"
      ]
     },
     "execution_count": 3,
     "metadata": {},
     "output_type": "execute_result"
    }
   ],
   "source": [
    "rdd = sc.parallelize(data)\n",
    "avg_rdd = rdd \\\n",
    "    .map(lambda x: (x[0], (x[1], 1))) \\\n",
    "    .reduceByKey(lambda value1, value2: (value1[0] + value2[0], value1[1] + value2[1])) \\\n",
    "    .map(lambda x: (x[0], x[1][0] / x[1][1]))\n",
    "avg_rdd.collect()"
   ]
  },
  {
   "cell_type": "markdown",
   "metadata": {},
   "source": [
    "### What are the drawbacks of this solution?\n",
    "\n",
    "1. Cryptic and hard to read\n",
    "2. Spark has no knowledge about the structure of the underlying data, we need to explicitly code into our job\n",
    "3. Hard to maintain, as small changes in the data may require to rewrite the entire job\n",
    "4. Not language agnostic, e.g. in Python and in Scala the same code will look very different due to differences in syntax"
   ]
  },
  {
   "cell_type": "markdown",
   "metadata": {},
   "source": [
    "## Calculating avg. scores with DataFrames"
   ]
  },
  {
   "cell_type": "code",
   "execution_count": 4,
   "metadata": {},
   "outputs": [
    {
     "name": "stdout",
     "output_type": "stream",
     "text": [
      "+------+------------------+\n",
      "|  Name|          avg(Age)|\n",
      "+------+------------------+\n",
      "|Andras|              11.0|\n",
      "|   Bob|28.333333333333332|\n",
      "+------+------------------+\n",
      "\n"
     ]
    }
   ],
   "source": [
    "df = spark.createDataFrame(data, ['Name', 'Age'])\n",
    "result_df = df.groupBy('Name').agg(avg('Age'))\n",
    "result_df.show()"
   ]
  },
  {
   "cell_type": "markdown",
   "metadata": {},
   "source": [
    "### It is not hard to see the advantages of the DataFrame APIs compared to RDDs\n",
    "\n",
    "1. The code is more expressive\n",
    "2. Spark understands our intention. Instead of just passing higher-order (lambda) functions to RDD operations, Spark gains a knowledge on what are these functions are performing. In this case we want to calculate avg. grouped by Name. This helps Spark to optimize our jobs more effectively in an automated fashion\n",
    "3. DataFrame API is very similar in Python and Scala which faciliates uniformity across programming languages."
   ]
  },
  {
   "cell_type": "code",
   "execution_count": null,
   "metadata": {},
   "outputs": [],
   "source": []
  }
 ],
 "metadata": {
  "kernelspec": {
   "display_name": "Python 3",
   "language": "python",
   "name": "python3"
  },
  "language_info": {
   "codemirror_mode": {
    "name": "ipython",
    "version": 3
   },
   "file_extension": ".py",
   "mimetype": "text/x-python",
   "name": "python",
   "nbconvert_exporter": "python",
   "pygments_lexer": "ipython3",
   "version": "3.6.9"
  }
 },
 "nbformat": 4,
 "nbformat_minor": 4
}
