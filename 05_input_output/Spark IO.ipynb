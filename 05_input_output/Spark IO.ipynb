{
 "cells": [
  {
   "cell_type": "code",
   "execution_count": 1,
   "metadata": {},
   "outputs": [],
   "source": [
    "import pyspark\n",
    "from pyspark.sql import SparkSession\n",
    "\n",
    "sc = pyspark.SparkContext()\n",
    "spark = SparkSession(sc)"
   ]
  },
  {
   "cell_type": "code",
   "execution_count": 22,
   "metadata": {
    "scrolled": true
   },
   "outputs": [
    {
     "name": "stdout",
     "output_type": "stream",
     "text": [
      "+--------------------+--------------------+-----+\n",
      "|   DEST_COUNTRY_NAME| ORIGIN_COUNTRY_NAME|count|\n",
      "+--------------------+--------------------+-----+\n",
      "|       United States|            Ethiopia|   12|\n",
      "|       United States|              Panama|  465|\n",
      "|       United States|               Aruba|  342|\n",
      "|       United States|            Thailand|    4|\n",
      "|       United States|Turks and Caicos ...|  236|\n",
      "|             Croatia|       United States|    2|\n",
      "|       United States|            Pakistan|   12|\n",
      "|              Cyprus|       United States|    1|\n",
      "|       United States|            Honduras|  407|\n",
      "|                Fiji|       United States|   24|\n",
      "|               Qatar|       United States|  108|\n",
      "|Saint Kitts and N...|       United States|  139|\n",
      "|              Kuwait|       United States|   32|\n",
      "|              Taiwan|       United States|  266|\n",
      "|               Haiti|       United States|  226|\n",
      "|              Canada|       United States| 8399|\n",
      "|Federated States ...|       United States|   69|\n",
      "|       United States|             Liberia|    2|\n",
      "|             Jamaica|       United States|  666|\n",
      "|       United States|               Malta|    2|\n",
      "+--------------------+--------------------+-----+\n",
      "only showing top 20 rows\n",
      "\n",
      "3\n"
     ]
    }
   ],
   "source": [
    "from pyspark.sql.types import StructField, StructType, StringType, LongType\n",
    "csv_schema = StructType([\n",
    "    # StructField (name, dataType, nullable, metadata)\n",
    "    StructField(\"DEST_COUNTRY_NAME\", StringType(), True),\n",
    "    StructField(\"ORIGIN_COUNTRY_NAME\", StringType(), True),\n",
    "    StructField(\"count\", LongType(), False)    \n",
    "])\n",
    "\n",
    "# spark.read is a DataFrameReader singleton class\n",
    "df = spark.read \\\n",
    "    .format('csv') \\\n",
    "    .option('header', 'true') \\\n",
    "    .schema(csv_schema) \\\n",
    "    .load('spark_training_baseline/data/flights_multiple')\n",
    "\n",
    "#.load('spark_training_baseline/data/flights.csv')\n",
    "df.show()\n",
    "\n",
    "print(df.rdd.getNumPartitions())"
   ]
  },
  {
   "cell_type": "code",
   "execution_count": 5,
   "metadata": {
    "collapsed": true
   },
   "outputs": [
    {
     "name": "stdout",
     "output_type": "stream",
     "text": [
      "{\"ORIGIN_COUNTRY_NAME\":\"Romania\",\"DEST_COUNTRY_NAME\":\"United States\",\"count\":15}\r\n",
      "{\"ORIGIN_COUNTRY_NAME\":\"Croatia\",\"DEST_COUNTRY_NAME\":\"United States\",\"count\":1}\r\n",
      "{\"ORIGIN_COUNTRY_NAME\":\"Ireland\",\"DEST_COUNTRY_NAME\":\"United States\",\"count\":344}\r\n",
      "{\"ORIGIN_COUNTRY_NAME\":\"United States\",\"DEST_COUNTRY_NAME\":\"Egypt\",\"count\":15}\r\n",
      "{\"ORIGIN_COUNTRY_NAME\":\"India\",\"DEST_COUNTRY_NAME\":\"United States\",\"count\":62}\r\n",
      "{\"ORIGIN_COUNTRY_NAME\":\"Singapore\",\"DEST_COUNTRY_NAME\":\"United States\",\"count\":1}\r\n",
      "{\"ORIGIN_COUNTRY_NAME\":\"Grenada\",\"DEST_COUNTRY_NAME\":\"United States\",\"count\":62}\r\n",
      "{\"ORIGIN_COUNTRY_NAME\":\"United States\",\"DEST_COUNTRY_NAME\":\"Costa Rica\",\"count\":588}\r\n",
      "{\"ORIGIN_COUNTRY_NAME\":\"United States\",\"DEST_COUNTRY_NAME\":\"Senegal\",\"count\":40}\r\n",
      "{\"ORIGIN_COUNTRY_NAME\":\"United States\",\"DEST_COUNTRY_NAME\":\"Moldova\",\"count\":1}\r\n"
     ]
    }
   ],
   "source": [
    "!head -10 spark_training_baseline/data/flights.json"
   ]
  },
  {
   "cell_type": "code",
   "execution_count": 13,
   "metadata": {},
   "outputs": [
    {
     "name": "stdout",
     "output_type": "stream",
     "text": [
      "+--------------------+-------------------+-----+\n",
      "|   DEST_COUNTRY_NAME|ORIGIN_COUNTRY_NAME|count|\n",
      "+--------------------+-------------------+-----+\n",
      "|       United States|            Romania|   15|\n",
      "|       United States|            Croatia|    1|\n",
      "|       United States|            Ireland|  344|\n",
      "|               Egypt|      United States|   15|\n",
      "|       United States|              India|   62|\n",
      "|       United States|          Singapore|    1|\n",
      "|       United States|            Grenada|   62|\n",
      "|          Costa Rica|      United States|  588|\n",
      "|             Senegal|      United States|   40|\n",
      "|             Moldova|      United States|    1|\n",
      "|       United States|       Sint Maarten|  325|\n",
      "|       United States|   Marshall Islands|   39|\n",
      "|              Guyana|      United States|   64|\n",
      "|               Malta|      United States|    1|\n",
      "|            Anguilla|      United States|   41|\n",
      "|             Bolivia|      United States|   30|\n",
      "|       United States|           Paraguay|    6|\n",
      "|             Algeria|      United States|    4|\n",
      "|Turks and Caicos ...|      United States|  230|\n",
      "|       United States|          Gibraltar|    1|\n",
      "+--------------------+-------------------+-----+\n",
      "only showing top 20 rows\n",
      "\n"
     ]
    }
   ],
   "source": [
    "df_json = spark.read \\\n",
    "    .format('json') \\\n",
    "    .option('compression', 'gzip') \\\n",
    "    .schema(csv_schema) \\\n",
    "    .load('/home/andras/git/spark/data/flights.json.gz')\n",
    "df_json.show()"
   ]
  },
  {
   "cell_type": "code",
   "execution_count": 16,
   "metadata": {},
   "outputs": [
    {
     "name": "stdout",
     "output_type": "stream",
     "text": [
      "+-------------------+--------------+\n",
      "|ORIGIN_COUNTRY_NAME|total_outbound|\n",
      "+-------------------+--------------+\n",
      "|      United States|        411966|\n",
      "|             Canada|          8483|\n",
      "|             Mexico|          7187|\n",
      "|     United Kingdom|          1970|\n",
      "|              Japan|          1496|\n",
      "| Dominican Republic|          1420|\n",
      "|            Germany|          1336|\n",
      "|        The Bahamas|           986|\n",
      "|             France|           952|\n",
      "|              China|           920|\n",
      "|           Colombia|           867|\n",
      "|        South Korea|           827|\n",
      "|            Jamaica|           712|\n",
      "|        Netherlands|           660|\n",
      "|             Brazil|           619|\n",
      "|         Costa Rica|           608|\n",
      "|        El Salvador|           508|\n",
      "|               Cuba|           478|\n",
      "|             Panama|           465|\n",
      "|              Spain|           442|\n",
      "+-------------------+--------------+\n",
      "only showing top 20 rows\n",
      "\n"
     ]
    }
   ],
   "source": [
    "df.createOrReplaceTempView('flights')\n",
    "result_df = spark.sql(\"\"\"\n",
    "SELECT ORIGIN_COUNTRY_NAME, sum(count) as total_outbound\n",
    "FROM flights\n",
    "GROUP BY ORIGIN_COUNTRY_NAME\n",
    "ORDER BY total_outbound DESC;\n",
    "\"\"\")\n",
    "result_df.show()"
   ]
  },
  {
   "cell_type": "code",
   "execution_count": 17,
   "metadata": {},
   "outputs": [],
   "source": [
    "result_df.write \\\n",
    "    .format('csv') \\\n",
    "    .option('header', 'true') \\\n",
    "    .option('sep', ';') \\\n",
    "    .mode('overwrite') \\\n",
    "    .save('data/flgiths_stat')   "
   ]
  },
  {
   "cell_type": "code",
   "execution_count": 23,
   "metadata": {},
   "outputs": [
    {
     "name": "stdout",
     "output_type": "stream",
     "text": [
      "_SUCCESS\r\n",
      "part-00000-181315c0-ec4a-429e-b0c7-d86af97ed692-c000.csv\r\n",
      "part-00001-181315c0-ec4a-429e-b0c7-d86af97ed692-c000.csv\r\n",
      "part-00002-181315c0-ec4a-429e-b0c7-d86af97ed692-c000.csv\r\n",
      "part-00003-181315c0-ec4a-429e-b0c7-d86af97ed692-c000.csv\r\n",
      "part-00004-181315c0-ec4a-429e-b0c7-d86af97ed692-c000.csv\r\n",
      "part-00005-181315c0-ec4a-429e-b0c7-d86af97ed692-c000.csv\r\n",
      "part-00006-181315c0-ec4a-429e-b0c7-d86af97ed692-c000.csv\r\n",
      "part-00007-181315c0-ec4a-429e-b0c7-d86af97ed692-c000.csv\r\n",
      "part-00008-181315c0-ec4a-429e-b0c7-d86af97ed692-c000.csv\r\n",
      "part-00009-181315c0-ec4a-429e-b0c7-d86af97ed692-c000.csv\r\n",
      "part-00010-181315c0-ec4a-429e-b0c7-d86af97ed692-c000.csv\r\n",
      "part-00011-181315c0-ec4a-429e-b0c7-d86af97ed692-c000.csv\r\n",
      "part-00012-181315c0-ec4a-429e-b0c7-d86af97ed692-c000.csv\r\n",
      "part-00013-181315c0-ec4a-429e-b0c7-d86af97ed692-c000.csv\r\n",
      "part-00014-181315c0-ec4a-429e-b0c7-d86af97ed692-c000.csv\r\n",
      "part-00015-181315c0-ec4a-429e-b0c7-d86af97ed692-c000.csv\r\n",
      "part-00016-181315c0-ec4a-429e-b0c7-d86af97ed692-c000.csv\r\n",
      "part-00017-181315c0-ec4a-429e-b0c7-d86af97ed692-c000.csv\r\n",
      "part-00018-181315c0-ec4a-429e-b0c7-d86af97ed692-c000.csv\r\n",
      "part-00019-181315c0-ec4a-429e-b0c7-d86af97ed692-c000.csv\r\n",
      "part-00020-181315c0-ec4a-429e-b0c7-d86af97ed692-c000.csv\r\n",
      "part-00021-181315c0-ec4a-429e-b0c7-d86af97ed692-c000.csv\r\n",
      "part-00022-181315c0-ec4a-429e-b0c7-d86af97ed692-c000.csv\r\n",
      "part-00023-181315c0-ec4a-429e-b0c7-d86af97ed692-c000.csv\r\n",
      "part-00024-181315c0-ec4a-429e-b0c7-d86af97ed692-c000.csv\r\n",
      "part-00025-181315c0-ec4a-429e-b0c7-d86af97ed692-c000.csv\r\n",
      "part-00026-181315c0-ec4a-429e-b0c7-d86af97ed692-c000.csv\r\n",
      "part-00027-181315c0-ec4a-429e-b0c7-d86af97ed692-c000.csv\r\n",
      "part-00028-181315c0-ec4a-429e-b0c7-d86af97ed692-c000.csv\r\n",
      "part-00029-181315c0-ec4a-429e-b0c7-d86af97ed692-c000.csv\r\n",
      "part-00030-181315c0-ec4a-429e-b0c7-d86af97ed692-c000.csv\r\n",
      "part-00031-181315c0-ec4a-429e-b0c7-d86af97ed692-c000.csv\r\n",
      "part-00032-181315c0-ec4a-429e-b0c7-d86af97ed692-c000.csv\r\n",
      "part-00033-181315c0-ec4a-429e-b0c7-d86af97ed692-c000.csv\r\n",
      "part-00034-181315c0-ec4a-429e-b0c7-d86af97ed692-c000.csv\r\n",
      "part-00035-181315c0-ec4a-429e-b0c7-d86af97ed692-c000.csv\r\n",
      "part-00036-181315c0-ec4a-429e-b0c7-d86af97ed692-c000.csv\r\n",
      "part-00037-181315c0-ec4a-429e-b0c7-d86af97ed692-c000.csv\r\n",
      "part-00038-181315c0-ec4a-429e-b0c7-d86af97ed692-c000.csv\r\n",
      "part-00039-181315c0-ec4a-429e-b0c7-d86af97ed692-c000.csv\r\n",
      "part-00040-181315c0-ec4a-429e-b0c7-d86af97ed692-c000.csv\r\n",
      "part-00041-181315c0-ec4a-429e-b0c7-d86af97ed692-c000.csv\r\n",
      "part-00042-181315c0-ec4a-429e-b0c7-d86af97ed692-c000.csv\r\n",
      "part-00043-181315c0-ec4a-429e-b0c7-d86af97ed692-c000.csv\r\n",
      "part-00044-181315c0-ec4a-429e-b0c7-d86af97ed692-c000.csv\r\n",
      "part-00045-181315c0-ec4a-429e-b0c7-d86af97ed692-c000.csv\r\n",
      "part-00046-181315c0-ec4a-429e-b0c7-d86af97ed692-c000.csv\r\n",
      "part-00047-181315c0-ec4a-429e-b0c7-d86af97ed692-c000.csv\r\n",
      "part-00048-181315c0-ec4a-429e-b0c7-d86af97ed692-c000.csv\r\n",
      "part-00049-181315c0-ec4a-429e-b0c7-d86af97ed692-c000.csv\r\n",
      "part-00050-181315c0-ec4a-429e-b0c7-d86af97ed692-c000.csv\r\n",
      "part-00051-181315c0-ec4a-429e-b0c7-d86af97ed692-c000.csv\r\n",
      "part-00052-181315c0-ec4a-429e-b0c7-d86af97ed692-c000.csv\r\n",
      "part-00053-181315c0-ec4a-429e-b0c7-d86af97ed692-c000.csv\r\n",
      "part-00054-181315c0-ec4a-429e-b0c7-d86af97ed692-c000.csv\r\n",
      "part-00055-181315c0-ec4a-429e-b0c7-d86af97ed692-c000.csv\r\n",
      "part-00056-181315c0-ec4a-429e-b0c7-d86af97ed692-c000.csv\r\n",
      "part-00057-181315c0-ec4a-429e-b0c7-d86af97ed692-c000.csv\r\n",
      "part-00058-181315c0-ec4a-429e-b0c7-d86af97ed692-c000.csv\r\n",
      "part-00059-181315c0-ec4a-429e-b0c7-d86af97ed692-c000.csv\r\n",
      "part-00060-181315c0-ec4a-429e-b0c7-d86af97ed692-c000.csv\r\n",
      "part-00061-181315c0-ec4a-429e-b0c7-d86af97ed692-c000.csv\r\n",
      "part-00062-181315c0-ec4a-429e-b0c7-d86af97ed692-c000.csv\r\n",
      "part-00063-181315c0-ec4a-429e-b0c7-d86af97ed692-c000.csv\r\n",
      "part-00064-181315c0-ec4a-429e-b0c7-d86af97ed692-c000.csv\r\n",
      "part-00065-181315c0-ec4a-429e-b0c7-d86af97ed692-c000.csv\r\n",
      "part-00066-181315c0-ec4a-429e-b0c7-d86af97ed692-c000.csv\r\n",
      "part-00067-181315c0-ec4a-429e-b0c7-d86af97ed692-c000.csv\r\n",
      "part-00068-181315c0-ec4a-429e-b0c7-d86af97ed692-c000.csv\r\n",
      "part-00069-181315c0-ec4a-429e-b0c7-d86af97ed692-c000.csv\r\n",
      "part-00070-181315c0-ec4a-429e-b0c7-d86af97ed692-c000.csv\r\n",
      "part-00071-181315c0-ec4a-429e-b0c7-d86af97ed692-c000.csv\r\n",
      "part-00072-181315c0-ec4a-429e-b0c7-d86af97ed692-c000.csv\r\n",
      "part-00073-181315c0-ec4a-429e-b0c7-d86af97ed692-c000.csv\r\n",
      "part-00074-181315c0-ec4a-429e-b0c7-d86af97ed692-c000.csv\r\n",
      "part-00075-181315c0-ec4a-429e-b0c7-d86af97ed692-c000.csv\r\n",
      "part-00076-181315c0-ec4a-429e-b0c7-d86af97ed692-c000.csv\r\n",
      "part-00077-181315c0-ec4a-429e-b0c7-d86af97ed692-c000.csv\r\n",
      "part-00078-181315c0-ec4a-429e-b0c7-d86af97ed692-c000.csv\r\n",
      "part-00079-181315c0-ec4a-429e-b0c7-d86af97ed692-c000.csv\r\n",
      "part-00080-181315c0-ec4a-429e-b0c7-d86af97ed692-c000.csv\r\n",
      "part-00081-181315c0-ec4a-429e-b0c7-d86af97ed692-c000.csv\r\n",
      "part-00082-181315c0-ec4a-429e-b0c7-d86af97ed692-c000.csv\r\n",
      "part-00083-181315c0-ec4a-429e-b0c7-d86af97ed692-c000.csv\r\n",
      "part-00084-181315c0-ec4a-429e-b0c7-d86af97ed692-c000.csv\r\n",
      "part-00085-181315c0-ec4a-429e-b0c7-d86af97ed692-c000.csv\r\n",
      "part-00086-181315c0-ec4a-429e-b0c7-d86af97ed692-c000.csv\r\n",
      "part-00087-181315c0-ec4a-429e-b0c7-d86af97ed692-c000.csv\r\n",
      "part-00088-181315c0-ec4a-429e-b0c7-d86af97ed692-c000.csv\r\n",
      "part-00089-181315c0-ec4a-429e-b0c7-d86af97ed692-c000.csv\r\n",
      "part-00090-181315c0-ec4a-429e-b0c7-d86af97ed692-c000.csv\r\n",
      "part-00091-181315c0-ec4a-429e-b0c7-d86af97ed692-c000.csv\r\n",
      "part-00092-181315c0-ec4a-429e-b0c7-d86af97ed692-c000.csv\r\n"
     ]
    }
   ],
   "source": [
    "!ls data/flgiths_stat"
   ]
  },
  {
   "cell_type": "code",
   "execution_count": 24,
   "metadata": {},
   "outputs": [],
   "source": [
    "df2 = spark.read \\\n",
    "    .format('csv') \\\n",
    "    .option('header', 'true') \\\n",
    "    .option('sep', ';') \\\n",
    "    .load('data/flgiths_stat')   "
   ]
  },
  {
   "cell_type": "code",
   "execution_count": 25,
   "metadata": {},
   "outputs": [
    {
     "data": {
      "text/plain": [
       "6"
      ]
     },
     "execution_count": 25,
     "metadata": {},
     "output_type": "execute_result"
    }
   ],
   "source": [
    "df2.rdd.getNumPartitions()"
   ]
  },
  {
   "cell_type": "code",
   "execution_count": 30,
   "metadata": {},
   "outputs": [
    {
     "data": {
      "text/plain": [
       "3"
      ]
     },
     "execution_count": 30,
     "metadata": {},
     "output_type": "execute_result"
    }
   ],
   "source": [
    "df3 = df2.repartition(3)\n",
    "df3.rdd.getNumPartitions()"
   ]
  },
  {
   "cell_type": "code",
   "execution_count": 33,
   "metadata": {},
   "outputs": [],
   "source": [
    "df4 = df3.repartition(1)\n",
    "df4.write \\\n",
    "    .format('csv') \\\n",
    "    .option('header', 'true') \\\n",
    "    .option('sep', ';') \\\n",
    "    .mode('overwrite') \\\n",
    "    .save('data/flgiths_stat2')   "
   ]
  },
  {
   "cell_type": "code",
   "execution_count": 36,
   "metadata": {},
   "outputs": [
    {
     "name": "stdout",
     "output_type": "stream",
     "text": [
      "_SUCCESS  part-00000-28abe62b-d7c2-4c4d-8a1d-ffa44f89428b-c000.csv\r\n"
     ]
    }
   ],
   "source": [
    "!ls data/flgiths_stat2"
   ]
  },
  {
   "cell_type": "code",
   "execution_count": 35,
   "metadata": {},
   "outputs": [],
   "source": [
    "#df4 = df3.repartition(1)\n",
    "df4 = df3.coalesce(1)\n",
    "df4.write \\\n",
    "    .format('csv') \\\n",
    "    .option('header', 'true') \\\n",
    "    .option('sep', ';') \\\n",
    "    .mode('overwrite') \\\n",
    "    .save('data/flgiths_stat2')   "
   ]
  },
  {
   "cell_type": "code",
   "execution_count": 38,
   "metadata": {},
   "outputs": [],
   "source": [
    "df_json.write \\\n",
    "    .format('csv') \\\n",
    "    .option('header', 'true') \\\n",
    "    .option('sep', ';') \\\n",
    "    .mode('overwrite') \\\n",
    "    .partitionBy('ORIGIN_COUNTRY_NAME') \\\n",
    "    .save('data/flgiths_stat2')   "
   ]
  },
  {
   "cell_type": "code",
   "execution_count": 39,
   "metadata": {},
   "outputs": [
    {
     "name": "stdout",
     "output_type": "stream",
     "text": [
      "/home/andras/ipython_spark\r\n"
     ]
    }
   ],
   "source": [
    "!pwd\n"
   ]
  },
  {
   "cell_type": "code",
   "execution_count": 40,
   "metadata": {},
   "outputs": [],
   "source": [
    "df4.write \\\n",
    "    .format('parquet') \\\n",
    "    .mode('overwrite') \\\n",
    "    .save('data/flgiths_pq')   "
   ]
  },
  {
   "cell_type": "code",
   "execution_count": 41,
   "metadata": {},
   "outputs": [
    {
     "name": "stdout",
     "output_type": "stream",
     "text": [
      "_SUCCESS  part-00000-2514fffd-f089-44bd-8be2-fd1bca653e06-c000.snappy.parquet\r\n"
     ]
    }
   ],
   "source": [
    "!ls data/flgiths_pq"
   ]
  },
  {
   "cell_type": "code",
   "execution_count": 42,
   "metadata": {},
   "outputs": [],
   "source": [
    "df_from_pq = spark.read \\\n",
    "    .format('parquet') \\\n",
    "    .load('data/flgiths_pq')   "
   ]
  },
  {
   "cell_type": "code",
   "execution_count": 45,
   "metadata": {},
   "outputs": [
    {
     "name": "stdout",
     "output_type": "stream",
     "text": [
      "+--------------------+\n",
      "| ORIGIN_COUNTRY_NAME|\n",
      "+--------------------+\n",
      "|               Egypt|\n",
      "|Bonaire, Sint Eus...|\n",
      "| Trinidad and Tobago|\n",
      "|           Gibraltar|\n",
      "|             Croatia|\n",
      "|             Bolivia|\n",
      "|    French Polynesia|\n",
      "|  Dominican Republic|\n",
      "|             Namibia|\n",
      "|             Liberia|\n",
      "|            Pakistan|\n",
      "|             Ukraine|\n",
      "|        Cook Islands|\n",
      "|           Greenland|\n",
      "|      United Kingdom|\n",
      "|         South Korea|\n",
      "|              Guyana|\n",
      "|             Austria|\n",
      "|         Netherlands|\n",
      "|             Romania|\n",
      "+--------------------+\n",
      "only showing top 20 rows\n",
      "\n"
     ]
    }
   ],
   "source": [
    "df_from_pq.select('ORIGIN_COUNTRY_NAME').show()"
   ]
  },
  {
   "cell_type": "code",
   "execution_count": 44,
   "metadata": {},
   "outputs": [
    {
     "name": "stdout",
     "output_type": "stream",
     "text": [
      "/home/andras/ipython_spark\r\n"
     ]
    }
   ],
   "source": [
    "!pwd"
   ]
  },
  {
   "cell_type": "code",
   "execution_count": null,
   "metadata": {},
   "outputs": [],
   "source": []
  }
 ],
 "metadata": {
  "kernelspec": {
   "display_name": "Python 3",
   "language": "python",
   "name": "python3"
  },
  "language_info": {
   "codemirror_mode": {
    "name": "ipython",
    "version": 3
   },
   "file_extension": ".py",
   "mimetype": "text/x-python",
   "name": "python",
   "nbconvert_exporter": "python",
   "pygments_lexer": "ipython3",
   "version": "3.6.9"
  }
 },
 "nbformat": 4,
 "nbformat_minor": 4
}
