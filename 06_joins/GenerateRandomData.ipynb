{
 "cells": [
  {
   "cell_type": "code",
   "execution_count": 1,
   "metadata": {},
   "outputs": [],
   "source": [
    "import pyspark\n",
    "from pyspark.sql import SparkSession"
   ]
  },
  {
   "cell_type": "code",
   "execution_count": 2,
   "metadata": {},
   "outputs": [],
   "source": [
    "sc = pyspark.SparkContext()\n",
    "spark = SparkSession(sc)"
   ]
  },
  {
   "cell_type": "code",
   "execution_count": 4,
   "metadata": {},
   "outputs": [
    {
     "data": {
      "text/plain": [
       "100"
      ]
     },
     "execution_count": 4,
     "metadata": {},
     "output_type": "execute_result"
    }
   ],
   "source": [
    "total_users = 100\n",
    "total_orders = 1000000\n",
    "\n",
    "states = ['WA', 'CA', 'NY', 'MI', 'AZ', 'CO']\n",
    "products = ['ITEM1', 'ITEM2', 'ITEM3', 'ITEM4', 'ITEM5']\n",
    "\n",
    "import random\n",
    "user_df = sc.parallelize(range(total_users)) \\\n",
    "    .map(lambda id: (id, 'user_' + str(id), states[random.randrange(len(states))])) \\\n",
    "    .toDF(['uid', 'user_name', 'user_state'])\n",
    "\n",
    "user_df.count()"
   ]
  },
  {
   "cell_type": "code",
   "execution_count": 6,
   "metadata": {},
   "outputs": [
    {
     "data": {
      "text/plain": [
       "1000000"
      ]
     },
     "execution_count": 6,
     "metadata": {},
     "output_type": "execute_result"
    }
   ],
   "source": [
    "order_df = sc.parallelize(range(total_orders)) \\\n",
    "    .map(lambda id: (id, random.randrange(100), random.randrange(len(products)), random.randrange(total_users))) \\\n",
    "    .toDF(['order_id', 'qty', 'product_id', 'user_id'])\n",
    "\n",
    "order_df.take(5)\n",
    "order_df.count()"
   ]
  },
  {
   "cell_type": "code",
   "execution_count": 7,
   "metadata": {},
   "outputs": [],
   "source": [
    "user_df \\\n",
    "    .coalesce(1) \\\n",
    "    .write \\\n",
    "    .format('csv') \\\n",
    "    .mode('overwrite') \\\n",
    "    .option('header', 'true') \\\n",
    "    .save('users.csv')"
   ]
  },
  {
   "cell_type": "code",
   "execution_count": 8,
   "metadata": {},
   "outputs": [],
   "source": [
    "order_df \\\n",
    "    .write \\\n",
    "    .format('csv') \\\n",
    "    .option('header', 'true') \\\n",
    "    .save('orders.csv')"
   ]
  },
  {
   "cell_type": "code",
   "execution_count": 9,
   "metadata": {},
   "outputs": [
    {
     "data": {
      "text/plain": [
       "6"
      ]
     },
     "execution_count": 9,
     "metadata": {},
     "output_type": "execute_result"
    }
   ],
   "source": [
    "user_df.rdd.getNumPartitions()"
   ]
  },
  {
   "cell_type": "code",
   "execution_count": 23,
   "metadata": {},
   "outputs": [
    {
     "name": "stdout",
     "output_type": "stream",
     "text": [
      "user_id,user_name,user_state\r\n",
      "0,user_0,AZ\r\n",
      "1,user_1,NY\r\n",
      "2,user_2,NY\r\n",
      "3,user_3,CO\r\n",
      "4,user_4,NY\r\n",
      "5,user_5,NY\r\n",
      "6,user_6,MI\r\n",
      "7,user_7,NY\r\n",
      "8,user_8,CO\r\n"
     ]
    }
   ],
   "source": [
    "!cat users.csv/part-00000-34807ebe-9f75-437e-94b5-4e915dd2aac1-c000.csv | head"
   ]
  },
  {
   "cell_type": "code",
   "execution_count": null,
   "metadata": {},
   "outputs": [],
   "source": []
  }
 ],
 "metadata": {
  "kernelspec": {
   "display_name": "Python 3",
   "language": "python",
   "name": "python3"
  },
  "language_info": {
   "codemirror_mode": {
    "name": "ipython",
    "version": 3
   },
   "file_extension": ".py",
   "mimetype": "text/x-python",
   "name": "python",
   "nbconvert_exporter": "python",
   "pygments_lexer": "ipython3",
   "version": "3.6.9"
  }
 },
 "nbformat": 4,
 "nbformat_minor": 4
}
