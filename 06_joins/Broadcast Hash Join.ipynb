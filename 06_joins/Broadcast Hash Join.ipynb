{
 "cells": [
  {
   "cell_type": "code",
   "execution_count": 19,
   "metadata": {},
   "outputs": [
    {
     "ename": "ValueError",
     "evalue": "Cannot run multiple SparkContexts at once; existing SparkContext(app=pyspark-shell, master=local[*]) created by __init__ at <ipython-input-1-153f8b0be037>:4 ",
     "output_type": "error",
     "traceback": [
      "\u001b[0;31m---------------------------------------------------------------------------\u001b[0m",
      "\u001b[0;31mValueError\u001b[0m                                Traceback (most recent call last)",
      "\u001b[0;32m<ipython-input-19-153f8b0be037>\u001b[0m in \u001b[0;36m<module>\u001b[0;34m\u001b[0m\n\u001b[1;32m      2\u001b[0m \u001b[0;32mfrom\u001b[0m \u001b[0mpyspark\u001b[0m\u001b[0;34m.\u001b[0m\u001b[0msql\u001b[0m \u001b[0;32mimport\u001b[0m \u001b[0mSparkSession\u001b[0m\u001b[0;34m\u001b[0m\u001b[0;34m\u001b[0m\u001b[0m\n\u001b[1;32m      3\u001b[0m \u001b[0;34m\u001b[0m\u001b[0m\n\u001b[0;32m----> 4\u001b[0;31m \u001b[0msc\u001b[0m \u001b[0;34m=\u001b[0m \u001b[0mpyspark\u001b[0m\u001b[0;34m.\u001b[0m\u001b[0mSparkContext\u001b[0m\u001b[0;34m(\u001b[0m\u001b[0;34m)\u001b[0m\u001b[0;34m\u001b[0m\u001b[0;34m\u001b[0m\u001b[0m\n\u001b[0m\u001b[1;32m      5\u001b[0m \u001b[0mspark\u001b[0m \u001b[0;34m=\u001b[0m \u001b[0mSparkSession\u001b[0m\u001b[0;34m(\u001b[0m\u001b[0msc\u001b[0m\u001b[0;34m)\u001b[0m\u001b[0;34m\u001b[0m\u001b[0;34m\u001b[0m\u001b[0m\n",
      "\u001b[0;32m~/ipython_spark/lib/python3.6/site-packages/pyspark/context.py\u001b[0m in \u001b[0;36m__init__\u001b[0;34m(self, master, appName, sparkHome, pyFiles, environment, batchSize, serializer, conf, gateway, jsc, profiler_cls)\u001b[0m\n\u001b[1;32m    131\u001b[0m                 \" is not allowed as it is a security risk.\")\n\u001b[1;32m    132\u001b[0m \u001b[0;34m\u001b[0m\u001b[0m\n\u001b[0;32m--> 133\u001b[0;31m         \u001b[0mSparkContext\u001b[0m\u001b[0;34m.\u001b[0m\u001b[0m_ensure_initialized\u001b[0m\u001b[0;34m(\u001b[0m\u001b[0mself\u001b[0m\u001b[0;34m,\u001b[0m \u001b[0mgateway\u001b[0m\u001b[0;34m=\u001b[0m\u001b[0mgateway\u001b[0m\u001b[0;34m,\u001b[0m \u001b[0mconf\u001b[0m\u001b[0;34m=\u001b[0m\u001b[0mconf\u001b[0m\u001b[0;34m)\u001b[0m\u001b[0;34m\u001b[0m\u001b[0;34m\u001b[0m\u001b[0m\n\u001b[0m\u001b[1;32m    134\u001b[0m         \u001b[0;32mtry\u001b[0m\u001b[0;34m:\u001b[0m\u001b[0;34m\u001b[0m\u001b[0;34m\u001b[0m\u001b[0m\n\u001b[1;32m    135\u001b[0m             self._do_init(master, appName, sparkHome, pyFiles, environment, batchSize, serializer,\n",
      "\u001b[0;32m~/ipython_spark/lib/python3.6/site-packages/pyspark/context.py\u001b[0m in \u001b[0;36m_ensure_initialized\u001b[0;34m(cls, instance, gateway, conf)\u001b[0m\n\u001b[1;32m    339\u001b[0m                         \u001b[0;34m\" created by %s at %s:%s \"\u001b[0m\u001b[0;34m\u001b[0m\u001b[0;34m\u001b[0m\u001b[0m\n\u001b[1;32m    340\u001b[0m                         % (currentAppName, currentMaster,\n\u001b[0;32m--> 341\u001b[0;31m                             callsite.function, callsite.file, callsite.linenum))\n\u001b[0m\u001b[1;32m    342\u001b[0m                 \u001b[0;32melse\u001b[0m\u001b[0;34m:\u001b[0m\u001b[0;34m\u001b[0m\u001b[0;34m\u001b[0m\u001b[0m\n\u001b[1;32m    343\u001b[0m                     \u001b[0mSparkContext\u001b[0m\u001b[0;34m.\u001b[0m\u001b[0m_active_spark_context\u001b[0m \u001b[0;34m=\u001b[0m \u001b[0minstance\u001b[0m\u001b[0;34m\u001b[0m\u001b[0;34m\u001b[0m\u001b[0m\n",
      "\u001b[0;31mValueError\u001b[0m: Cannot run multiple SparkContexts at once; existing SparkContext(app=pyspark-shell, master=local[*]) created by __init__ at <ipython-input-1-153f8b0be037>:4 "
     ]
    }
   ],
   "source": [
    "import pyspark\n",
    "from pyspark.sql import SparkSession\n",
    "\n",
    "sc = pyspark.SparkContext()\n",
    "spark = SparkSession(sc)"
   ]
  },
  {
   "cell_type": "code",
   "execution_count": 2,
   "metadata": {},
   "outputs": [
    {
     "data": {
      "text/plain": [
       "100"
      ]
     },
     "execution_count": 2,
     "metadata": {},
     "output_type": "execute_result"
    }
   ],
   "source": [
    "user_df = spark.read.format('csv').option('header', 'true').load('users.csv')\n",
    "user_df.count()"
   ]
  },
  {
   "cell_type": "code",
   "execution_count": 3,
   "metadata": {},
   "outputs": [
    {
     "data": {
      "text/plain": [
       "1000000"
      ]
     },
     "execution_count": 3,
     "metadata": {},
     "output_type": "execute_result"
    }
   ],
   "source": [
    "order_df = spark.read.format('csv').option('header', 'true').load('orders.csv')\n",
    "order_df.count()"
   ]
  },
  {
   "cell_type": "code",
   "execution_count": 15,
   "metadata": {},
   "outputs": [],
   "source": [
    "#spark.conf.set('spark.sql.autoBroadcastJoinThreshold', '-1')\n",
    "userOrderDF = order_df.join(user_df.hint('broadcast'), user_df.user_id == order_df.user_id)"
   ]
  },
  {
   "cell_type": "code",
   "execution_count": 16,
   "metadata": {},
   "outputs": [
    {
     "name": "stdout",
     "output_type": "stream",
     "text": [
      "+--------+---+----------+-------+-------+---------+----------+\n",
      "|order_id|qty|product_id|user_id|user_id|user_name|user_state|\n",
      "+--------+---+----------+-------+-------+---------+----------+\n",
      "|       0| 27|         4|      3|      0|   user_0|        CO|\n",
      "|       1| 82|         2|     33|      1|   user_1|        AZ|\n",
      "|       2| 46|         0|     35|      2|   user_2|        MI|\n",
      "|       3| 61|         1|     88|      3|   user_3|        CO|\n",
      "|       4| 61|         0|     44|      4|   user_4|        CA|\n",
      "|       5| 87|         3|     76|      5|   user_5|        WA|\n",
      "|       6| 24|         0|     65|      6|   user_6|        CO|\n",
      "|       7| 42|         4|     99|      7|   user_7|        NY|\n",
      "|       8| 14|         4|     23|      8|   user_8|        NY|\n",
      "|       9| 16|         0|     79|      9|   user_9|        CO|\n",
      "|      10| 23|         4|     69|     10|  user_10|        NY|\n",
      "|      11|  3|         2|     11|     11|  user_11|        CO|\n",
      "|      12| 98|         2|     41|     12|  user_12|        WA|\n",
      "|      13| 29|         2|     78|     13|  user_13|        AZ|\n",
      "|      14| 40|         1|     28|     14|  user_14|        CO|\n",
      "|      15| 49|         3|     30|     15|  user_15|        MI|\n",
      "|      16| 67|         2|     53|     16|  user_16|        WA|\n",
      "|      17| 79|         3|     30|     17|  user_17|        WA|\n",
      "|      18| 42|         4|     53|     18|  user_18|        WA|\n",
      "|      19| 60|         2|     37|     19|  user_19|        AZ|\n",
      "+--------+---+----------+-------+-------+---------+----------+\n",
      "only showing top 20 rows\n",
      "\n"
     ]
    }
   ],
   "source": [
    "userOrderDF.show()"
   ]
  },
  {
   "cell_type": "code",
   "execution_count": 17,
   "metadata": {
    "scrolled": true
   },
   "outputs": [
    {
     "name": "stdout",
     "output_type": "stream",
     "text": [
      "== Physical Plan ==\n",
      "*(2) BroadcastHashJoin [order_id#46], [user_id#16], Inner, BuildRight\n",
      ":- *(2) Project [order_id#46, qty#47, product_id#48, user_id#49]\n",
      ":  +- *(2) Filter isnotnull(order_id#46)\n",
      ":     +- FileScan csv [order_id#46,qty#47,product_id#48,user_id#49] Batched: false, DataFilters: [isnotnull(order_id#46)], Format: CSV, Location: InMemoryFileIndex[file:/home/andras/ipython_spark/spark_training_baseline/06_joins/orders.csv], PartitionFilters: [], PushedFilters: [IsNotNull(order_id)], ReadSchema: struct<order_id:string,qty:string,product_id:string,user_id:string>\n",
      "+- BroadcastExchange HashedRelationBroadcastMode(List(input[0, string, true])), [id=#400]\n",
      "   +- *(1) Project [user_id#16, user_name#17, user_state#18]\n",
      "      +- *(1) Filter isnotnull(user_id#16)\n",
      "         +- FileScan csv [user_id#16,user_name#17,user_state#18] Batched: false, DataFilters: [isnotnull(user_id#16)], Format: CSV, Location: InMemoryFileIndex[file:/home/andras/ipython_spark/spark_training_baseline/06_joins/users.csv], PartitionFilters: [], PushedFilters: [IsNotNull(user_id)], ReadSchema: struct<user_id:string,user_name:string,user_state:string>\n",
      "\n",
      "\n"
     ]
    }
   ],
   "source": [
    "userOrderDF.explain()"
   ]
  },
  {
   "cell_type": "code",
   "execution_count": 20,
   "metadata": {},
   "outputs": [
    {
     "data": {
      "text/plain": [
       "100"
      ]
     },
     "execution_count": 20,
     "metadata": {},
     "output_type": "execute_result"
    }
   ],
   "source": [
    "user_df.count()"
   ]
  },
  {
   "cell_type": "code",
   "execution_count": 22,
   "metadata": {},
   "outputs": [
    {
     "data": {
      "text/plain": [
       "DataFrame[user_id: string, user_name: string, user_state: string]"
      ]
     },
     "execution_count": 22,
     "metadata": {},
     "output_type": "execute_result"
    }
   ],
   "source": [
    "user_df.limit(10)"
   ]
  },
  {
   "cell_type": "code",
   "execution_count": 25,
   "metadata": {},
   "outputs": [
    {
     "name": "stdout",
     "output_type": "stream",
     "text": [
      "+-------+--------+---+----------+---------+----------+\n",
      "|user_id|order_id|qty|product_id|user_name|user_state|\n",
      "+-------+--------+---+----------+---------+----------+\n",
      "|      3|       0| 27|         4|   user_3|        CO|\n",
      "|     33|       1| 82|         2|  user_33|        AZ|\n",
      "|     35|       2| 46|         0|  user_35|        WA|\n",
      "|     88|       3| 61|         1|  user_88|        MI|\n",
      "|     44|       4| 61|         0|  user_44|        MI|\n",
      "|     76|       5| 87|         3|  user_76|        AZ|\n",
      "|     65|       6| 24|         0|  user_65|        NY|\n",
      "|     99|       7| 42|         4|  user_99|        CA|\n",
      "|     23|       8| 14|         4|  user_23|        CA|\n",
      "|     79|       9| 16|         0|  user_79|        CA|\n",
      "|     69|      10| 23|         4|  user_69|        CA|\n",
      "|     11|      11|  3|         2|  user_11|        CO|\n",
      "|     41|      12| 98|         2|  user_41|        CO|\n",
      "|     78|      13| 29|         2|  user_78|        MI|\n",
      "|     28|      14| 40|         1|  user_28|        NY|\n",
      "|     30|      15| 49|         3|  user_30|        CO|\n",
      "|     53|      16| 67|         2|  user_53|        MI|\n",
      "|     30|      17| 79|         3|  user_30|        CO|\n",
      "|     53|      18| 42|         4|  user_53|        MI|\n",
      "|     37|      19| 60|         2|  user_37|        CO|\n",
      "+-------+--------+---+----------+---------+----------+\n",
      "only showing top 20 rows\n",
      "\n"
     ]
    }
   ],
   "source": [
    "userOrderDF = order_df.join(user_df.hint('broadcast'), ['user_id'], 'inner')\n",
    "userOrderDF.show()"
   ]
  },
  {
   "cell_type": "code",
   "execution_count": 29,
   "metadata": {},
   "outputs": [
    {
     "data": {
      "text/plain": [
       "4"
      ]
     },
     "execution_count": 29,
     "metadata": {},
     "output_type": "execute_result"
    }
   ],
   "source": [
    "userOrderDF.rdd.getNumPartitions()"
   ]
  },
  {
   "cell_type": "code",
   "execution_count": null,
   "metadata": {},
   "outputs": [],
   "source": []
  }
 ],
 "metadata": {
  "kernelspec": {
   "display_name": "Python 3",
   "language": "python",
   "name": "python3"
  },
  "language_info": {
   "codemirror_mode": {
    "name": "ipython",
    "version": 3
   },
   "file_extension": ".py",
   "mimetype": "text/x-python",
   "name": "python",
   "nbconvert_exporter": "python",
   "pygments_lexer": "ipython3",
   "version": "3.6.9"
  }
 },
 "nbformat": 4,
 "nbformat_minor": 4
}
