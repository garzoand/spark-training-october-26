{
 "cells": [
  {
   "cell_type": "markdown",
   "metadata": {},
   "source": [
    "## Task1: Calculate PI in parallel with Apache Spark using the Monte Carlo Method\n"
   ]
  },
  {
   "cell_type": "markdown",
   "metadata": {},
   "source": [
    "We have a circle of radius 0.5, enclosed by a 1 × 1 square. The area of the circle is πr2=π/4, the area of the square is 1. If we divide the area of the circle, by the area of the square we get π/4.\n",
    "\n",
    "\n",
    "Total Number of points: 0\n",
    "Points within circle: 0\n",
    "Pi estimation:\n",
    "Add points one-by-one\n",
    "Animate\n",
    "Speed\n",
    "Reset\n",
    " Open with CodePen\n",
    "One method to estimate the value of π (3.141592...) is by using a Monte Carlo method. In the demo above, we have a circle of radius 0.5, enclosed by a 1 × 1 square. The area of the circle is πr2=π/4, the area of the square is 1. If we divide the area of the circle, by the area of the square we get π/4.\n",
    "\n",
    "We then generate a large number of uniformly distributed random points and plot them on the graph. These points can be in any position within the square i.e. between (0,0) and (1,1). If they fall within the circle, they are coloured red, otherwise they are coloured blue. We keep track of the total number of points, and the number of points that are inside the circle. If we divide the number of points within the circle, Ninner by the total number of points, Ntotal, we should get a value that is an approximation of the ratio of the areas we calculated above, π/4.\n",
    "\n",
    "In other words,\n",
    "\n",
    "π4 ≈ Ninner / Ntotal\n",
    "\n",
    "π ≈ 4Ninner / Ntotal\n",
    "\n",
    "<img src='./montecarlo.png'>"
   ]
  },
  {
   "cell_type": "code",
   "execution_count": 7,
   "metadata": {},
   "outputs": [],
   "source": [
    "# number of points to be used during the simulation\n",
    "num_samples = 1000\n",
    "# num_samples = 100000000"
   ]
  },
  {
   "cell_type": "code",
   "execution_count": 8,
   "metadata": {},
   "outputs": [],
   "source": [
    "import random\n",
    "\n",
    "def gen_random_point(p):\n",
    "    # just generate two random x and y coordinates between (0, 1), regardless the input\n",
    "    x = random.random()\n",
    "    y = random.random()\n",
    "    return (x, y)\n",
    "\n",
    "# point is a tuple (x, y)\n",
    "def inside_the_circle(point):\n",
    "    # returns true if the point is in the circle\n",
    "    x = point[0]\n",
    "    y = point[1]\n",
    "    return (x**2 + y**2 < 1)"
   ]
  },
  {
   "cell_type": "markdown",
   "metadata": {},
   "source": [
    "First let's see how we can implement the monte-carlo based Pi estimation via the standard \"functional\" python APIs. \n",
    "\n",
    "First we generate just a list which contains the same number of elements as points we need to generate randomly. With the **map** function we generate a random (x,y) coordinated for each element. With the **filer** function it is easy to get rid off all the elements which are not in the circle. The length of the remainder list can tell you, how many randomly generated points are in the circle which can be used to calculate the points_in_circle / total_points ratio."
   ]
  },
  {
   "cell_type": "code",
   "execution_count": 13,
   "metadata": {},
   "outputs": [
    {
     "name": "stdout",
     "output_type": "stream",
     "text": [
      "3.141372\n"
     ]
    }
   ],
   "source": [
    "num_samples = 1000000\n",
    "l = range(num_samples)\n",
    "\n",
    "n_circle = len(list(filter(inside_the_circle, map(gen_random_point, l))))\n",
    "\n",
    "# Formula to estimate Pi\n",
    "pi = 4 * ( n_circle / num_samples)\n",
    "print(pi)"
   ]
  },
  {
   "cell_type": "markdown",
   "metadata": {},
   "source": [
    "Observe, as you're increasing value of of the num_samples, the error of the estimation decreases. Let's try to run the exact code with 10 * num_sample points!"
   ]
  },
  {
   "cell_type": "code",
   "execution_count": 5,
   "metadata": {
    "scrolled": true
   },
   "outputs": [
    {
     "name": "stdout",
     "output_type": "stream",
     "text": [
      "3.141528\n"
     ]
    }
   ],
   "source": [
    "num_samples = 10 * 100000\n",
    "l = range(num_samples)\n",
    "k = len(list(filter(inside_the_circle, map(gen_random_point, l))))\n",
    "pi = 4 * (k / num_samples)\n",
    "print(pi)"
   ]
  },
  {
   "cell_type": "markdown",
   "metadata": {},
   "source": [
    "Now it's time to write some Spark jobs. The first task is to replicate the above logic in Spark.\n",
    "\n",
    "First you need to create a distributed data collection, which is called RDD (Resilient Distributed Dataset). We will talk about RDDs later during the class, for now, you can think about RDD as a partitioned list which can be stored in the memory of multiple node. So the available memory for your application in your computer is not a limitation anymore.\n",
    "\n",
    "Use the **sc.parallelize(iterator)** to create an RDD first:"
   ]
  },
  {
   "cell_type": "code",
   "execution_count": 15,
   "metadata": {},
   "outputs": [
    {
     "data": {
      "text/plain": [
       "PythonRDD[1] at RDD at PythonRDD.scala:53"
      ]
     },
     "execution_count": 15,
     "metadata": {},
     "output_type": "execute_result"
    }
   ],
   "source": [
    "# Some boilerplate code\n",
    "#import pyspark\n",
    "#sc = pyspark.SparkContext()\n",
    "num_samples = 10 * 1000 * 1000\n",
    "\n",
    "# Your code comes here\n",
    "rdd = sc.parallelize(range(num_samples))\n",
    "rdd"
   ]
  },
  {
   "cell_type": "markdown",
   "metadata": {},
   "source": [
    "Use the **rdd.map()**, **rdd.filter()** and **rdd.count()** methods to calculate the total number of points which fall into the circle. Use the formula above to estimate the Pi value."
   ]
  },
  {
   "cell_type": "code",
   "execution_count": 18,
   "metadata": {},
   "outputs": [
    {
     "name": "stdout",
     "output_type": "stream",
     "text": [
      "0.3144488\n"
     ]
    }
   ],
   "source": [
    "# map (element -> element)\n",
    "# filter (element -> {0, 1})\n",
    "# flatMap (element -> [elemets])\n",
    "# reduce (2 elements -> agg of elements)\n",
    "# reduceByKey (...) <- need to perform shuffling!\n",
    "\n",
    "rdd2 = rdd \\\n",
    "    .map(gen_random_point) \\\n",
    "    .filter(inside_the_circle) \\\n",
    "    .count()\n",
    "\n",
    "pi_estimate = 4 * (points_in_circle / num_samples)\n",
    "print(pi_estimate)"
   ]
  },
  {
   "cell_type": "code",
   "execution_count": null,
   "metadata": {},
   "outputs": [],
   "source": []
  }
 ],
 "metadata": {
  "kernelspec": {
   "display_name": "Python 3",
   "language": "python",
   "name": "python3"
  },
  "language_info": {
   "codemirror_mode": {
    "name": "ipython",
    "version": 3
   },
   "file_extension": ".py",
   "mimetype": "text/x-python",
   "name": "python",
   "nbconvert_exporter": "python",
   "pygments_lexer": "ipython3",
   "version": "3.6.9"
  }
 },
 "nbformat": 4,
 "nbformat_minor": 4
}
